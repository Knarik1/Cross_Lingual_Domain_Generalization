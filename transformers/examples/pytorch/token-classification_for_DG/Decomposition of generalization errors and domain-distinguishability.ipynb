{
 "cells": [
  {
   "cell_type": "code",
   "execution_count": 3,
   "id": "0fc1c55f",
   "metadata": {},
   "outputs": [],
   "source": [
    "import pandas as pd\n",
    "import matplotlib.pyplot as plt"
   ]
  },
  {
   "cell_type": "code",
   "execution_count": 4,
   "id": "1642c2e6",
   "metadata": {},
   "outputs": [
    {
     "data": {
      "text/plain": [
       "Text(0, 0.5, 'Error')"
      ]
     },
     "execution_count": 4,
     "metadata": {},
     "output_type": "execute_result"
    },
    {
     "data": {
      "image/png": "[encoded data removed]",
      "text/plain": [
       "<Figure size 360x288 with 1 Axes>"
      ]
     },
     "metadata": {
      "needs_background": "light"
     },
     "output_type": "display_data"
    }
   ],
   "source": [
    "plotdata = pd.DataFrame({\n",
    "    \"e0\": 0.114,\n",
    "    \"e1\": 0.1032,\n",
    "    \"e2\": 0.0063,\n",
    "    \"e3\": 0.0354\n",
    "    }, \n",
    "    index=[\"ERM\"]\n",
    ")\n",
    "\n",
    "\n",
    "colors = ['#009688', '#8BC34A', '#CEDD39', '#FFEB3B']\n",
    "plotdata.plot(kind='bar', stacked=True, color=colors, figsize=(5,4))\n",
    "\n",
    "plt.ylabel(\"Error\")"
   ]
  },
  {
   "cell_type": "code",
   "execution_count": 5,
   "id": "057bdcf1",
   "metadata": {},
   "outputs": [
    {
     "data": {
      "text/plain": [
       "Text(0, 0.5, 'Distinguishability')"
      ]
     },
     "execution_count": 5,
     "metadata": {},
     "output_type": "execute_result"
    },
    {
     "data": {
      "image/png": "[encoded data removed]",
      "text/plain": [
       "<Figure size 360x288 with 1 Axes>"
      ]
     },
     "metadata": {
      "needs_background": "light"
     },
     "output_type": "display_data"
    }
   ],
   "source": [
    "plotdata_invariance = pd.DataFrame({\n",
    "    \"d0\": 0.644,\n",
    "    \"d1\": 0.645 - 0.644,\n",
    "    \"d2\": 0.646 - 0.645,\n",
    "    }, \n",
    "    index=[\"ERM\"]\n",
    ")\n",
    "\n",
    "\n",
    "colors = ['#9D27B0', '#673AB7', '#3F51B5']\n",
    "plotdata_invariance.plot(kind='bar', stacked=True, color=colors, figsize=(5,4))\n",
    "\n",
    "plt.ylabel(\"Distinguishability\")"
   ]
  },
  {
   "cell_type": "code",
   "execution_count": null,
   "id": "759be2fe",
   "metadata": {},
   "outputs": [],
   "source": []
  }
 ],
 "metadata": {
  "kernelspec": {
   "display_name": "Python 3 (ipykernel)",
   "language": "python",
   "name": "python3"
  },
  "language_info": {
   "codemirror_mode": {
    "name": "ipython",
    "version": 3
   },
   "file_extension": ".py",
   "mimetype": "text/x-python",
   "name": "python",
   "nbconvert_exporter": "python",
   "pygments_lexer": "ipython3",
   "version": "3.9.7"
  }
 },
 "nbformat": 4,
 "nbformat_minor": 5
}

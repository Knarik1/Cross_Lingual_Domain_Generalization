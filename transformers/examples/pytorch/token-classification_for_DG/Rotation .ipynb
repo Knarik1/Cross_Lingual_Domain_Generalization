{
 "cells": [
  {
   "cell_type": "code",
   "execution_count": 1,
   "id": "9cb41fc3",
   "metadata": {},
   "outputs": [],
   "source": [
    "import numpy as np\n",
    "from numpy.linalg import pinv,inv\n",
    "import pandas as pd\n",
    "import matplotlib.pyplot as plt\n",
    "from matplotlib.lines import Line2D\n",
    "\n",
    "from scipy import linalg\n",
    "from sklearn.linear_model import LogisticRegression\n",
    "\n",
    "from sklearn.utils.extmath import svd_flip\n",
    "from sklearn.decomposition import PCA\n",
    "\n",
    "from tqdm import tqdm\n",
    "import pickle\n",
    "\n",
    "import torch\n",
    "from transformers import AutoModelForTokenClassification"
   ]
  },
  {
   "cell_type": "code",
   "execution_count": 2,
   "id": "b571ae12",
   "metadata": {},
   "outputs": [],
   "source": [
    "with open('embeddings.pickle', 'rb') as handle:\n",
    "    eval_dict = pickle.load(handle)"
   ]
  },
  {
   "cell_type": "code",
   "execution_count": 3,
   "id": "f864b4a4",
   "metadata": {},
   "outputs": [],
   "source": [
    "TRAIN_LANGS = [\"en\", \"zh\", \"es\", \"de\", \"nl\"]\n",
    "\n",
    "lang_color = {\n",
    "    'en': 'r',\n",
    "    'zh': 'b',\n",
    "    'es': 'g',\n",
    "    'de': 'yellow',\n",
    "    'nl': 'orange'\n",
    "}\n",
    "\n",
    "label_color = {\n",
    "    'B-LOC': 'r',\n",
    "    'B-MISC': 'g',\n",
    "    'B-ORG': 'b',\n",
    "    'B-PER': 'yellow',\n",
    "    'I-LOC': 'r',\n",
    "    'I-MISC': 'g',\n",
    "    'I-ORG': 'b',\n",
    "    'I-PER': 'yellow',\n",
    "    'O': 'orange'\n",
    "}\n",
    "\n",
    "label_color_small = {\n",
    "    'LOC': 'r',\n",
    "    'MISC': 'g',\n",
    "    'ORG': 'b',\n",
    "    'PER': 'yellow',\n",
    "    'O': 'orange'\n",
    "}"
   ]
  },
  {
   "cell_type": "code",
   "execution_count": 4,
   "id": "e9abdf19",
   "metadata": {},
   "outputs": [
    {
     "name": "stderr",
     "output_type": "stream",
     "text": [
      "100%|██████████████████████████████████████████████████████████| 5/5 [00:00<00:00, 184.38it/s]\n"
     ]
    }
   ],
   "source": [
    "embeddings_arr = []\n",
    "words_arr = []\n",
    "refs_arr = []\n",
    "\n",
    "# merge all languages data\n",
    "for lang in tqdm(TRAIN_LANGS):\n",
    "    embeddings_arr.extend(eval_dict[lang]['embeddings'])\n",
    "    words_arr.extend(eval_dict[lang]['words'])\n",
    "    refs_arr.extend(eval_dict[lang]['refs'])"
   ]
  },
  {
   "cell_type": "code",
   "execution_count": 5,
   "id": "4b93d38a",
   "metadata": {
    "scrolled": true
   },
   "outputs": [
    {
     "name": "stdout",
     "output_type": "stream",
     "text": [
      "en starts from 0\n",
      "zh starts from 46364\n",
      "es starts from 202376\n",
      "de starts from 253577\n",
      "nl starts from 305273\n"
     ]
    }
   ],
   "source": [
    "get_lang_color = lambda i: lang_color[i]\n",
    "get_label_color = lambda i: label_color[i]\n",
    "\n",
    "color_lang_arr = []\n",
    "color_label_arr = []\n",
    "lang_starting_index = {}\n",
    "\n",
    "for lang in TRAIN_LANGS:\n",
    "    print(f\"{lang} starts from {len(color_lang_arr)}\")\n",
    "    lang_starting_index[lang] = len(color_lang_arr)\n",
    "    \n",
    "    color_lang_arr.extend(list(map(get_lang_color, eval_dict[lang]['langs'])))\n",
    "    \n",
    "    \n",
    "color_label_arr.extend(list(map(get_label_color, refs_arr)))      "
   ]
  },
  {
   "cell_type": "code",
   "execution_count": 6,
   "id": "bbe4eaab",
   "metadata": {},
   "outputs": [],
   "source": [
    "color_lang_arr = np.array(color_lang_arr)  \n",
    "color_label_arr = np.array(color_label_arr)  \n",
    "words_arr = np.array(words_arr)\n",
    "refs_arr = np.array(refs_arr)"
   ]
  },
  {
   "cell_type": "code",
   "execution_count": 7,
   "id": "a8c19e8c",
   "metadata": {},
   "outputs": [],
   "source": [
    "# Classifier\n",
    "path_3 = '/mnt/xtb/knarik/outputs/DG/models/domain_en_de_zh_epoch_50'\n",
    "path_4 = '/mnt/xtb/knarik/outputs/DG/classifiers/domain_en_de_zh_epoch_50_en_de_zh_es_epoch_50'\n",
    "path_1 = '/mnt/xtb/knarik/outputs/DG/classifiers/domain_en_de_zh_epoch_50_es_epoch_50'\n",
    "path_0 = '/mnt/xtb/knarik/outputs/DG/models/domain_es_epoch_50'\n",
    "\n",
    "\n",
    "classifier_3 = AutoModelForTokenClassification.from_pretrained(path_3, output_hidden_states=True, num_labels=9).classifier\n",
    "classifier_4 = AutoModelForTokenClassification.from_pretrained(path_4, output_hidden_states=True, num_labels=9).classifier\n",
    "classifier_1 = AutoModelForTokenClassification.from_pretrained(path_1, output_hidden_states=True, num_labels=9).classifier\n",
    "classifier_0 = AutoModelForTokenClassification.from_pretrained(path_0, output_hidden_states=True, num_labels=9).classifier\n"
   ]
  },
  {
   "cell_type": "markdown",
   "id": "ffa79b95",
   "metadata": {},
   "source": [
    "['B-LOC', 'B-MISC', 'B-ORG', 'B-PER', 'I-LOC', 'I-MISC', 'I-ORG', 'I-PER', 'O']"
   ]
  },
  {
   "cell_type": "code",
   "execution_count": 8,
   "id": "a858ce51",
   "metadata": {},
   "outputs": [],
   "source": [
    "# en_de_zh_es\n",
    "B_loc_4_w = classifier_4.weight[0].detach().numpy()\n",
    "I_loc_4_w = classifier_4.weight[4].detach().numpy()\n",
    "\n",
    "\n",
    "\n",
    "\n",
    "# es after fine-tune on en_de_zh\n",
    "B_loc_1_w = classifier_1.weight[0].detach().numpy()\n",
    "I_loc_1_w = classifier_1.weight[4].detach().numpy()"
   ]
  },
  {
   "cell_type": "code",
   "execution_count": 9,
   "id": "481f3b0d",
   "metadata": {},
   "outputs": [],
   "source": [
    "R_b_loc =  np.outer(1/(B_loc_4_w.shape[0] * B_loc_4_w), B_loc_1_w)"
   ]
  },
  {
   "cell_type": "code",
   "execution_count": 10,
   "id": "46b61f36",
   "metadata": {},
   "outputs": [
    {
     "data": {
      "text/plain": [
       "(768, 768)"
      ]
     },
     "execution_count": 10,
     "metadata": {},
     "output_type": "execute_result"
    }
   ],
   "source": [
    "R_b_loc.shape"
   ]
  },
  {
   "cell_type": "code",
   "execution_count": 11,
   "id": "e999681f",
   "metadata": {},
   "outputs": [],
   "source": [
    "R_i_loc =  np.outer(1/(I_loc_4_w.shape[0] * I_loc_4_w), I_loc_1_w)"
   ]
  },
  {
   "cell_type": "code",
   "execution_count": 12,
   "id": "7bc8c64d",
   "metadata": {},
   "outputs": [
    {
     "data": {
      "text/plain": [
       "array([[ 0.00058771,  0.00078463, -0.00132883, ...,  0.00127244,\n",
       "        -0.00022043,  0.00061833],\n",
       "       [ 0.00132022,  0.00176257, -0.00298505, ...,  0.0028584 ,\n",
       "        -0.00049517,  0.001389  ],\n",
       "       [-0.00067242, -0.00089772,  0.00152035, ..., -0.00145585,\n",
       "         0.0002522 , -0.00070745],\n",
       "       ...,\n",
       "       [ 0.00092774,  0.00123858, -0.00209763, ...,  0.00200863,\n",
       "        -0.00034796,  0.00097607],\n",
       "       [-0.00146262, -0.00195267,  0.00330701, ..., -0.00316669,\n",
       "         0.00054857, -0.00153882],\n",
       "       [ 0.00075276,  0.00100497, -0.001702  , ...,  0.00162979,\n",
       "        -0.00028233,  0.00079198]], dtype=float32)"
      ]
     },
     "execution_count": 12,
     "metadata": {},
     "output_type": "execute_result"
    }
   ],
   "source": [
    "R_b_loc"
   ]
  },
  {
   "cell_type": "code",
   "execution_count": 13,
   "id": "23c9f787",
   "metadata": {},
   "outputs": [
    {
     "data": {
      "text/plain": [
       "array([[0.00090264, 0.0006426 , 0.00054664, ..., 0.00027378, 0.0003834 ,\n",
       "        0.00046891],\n",
       "       [0.00148788, 0.00105923, 0.00090105, ..., 0.00045128, 0.00063198,\n",
       "        0.00077293],\n",
       "       [0.00168553, 0.00119994, 0.00102075, ..., 0.00051123, 0.00071593,\n",
       "        0.00087561],\n",
       "       ...,\n",
       "       [0.00397137, 0.00282726, 0.00240505, ..., 0.00120454, 0.00168685,\n",
       "        0.00206307],\n",
       "       [0.00277359, 0.00197455, 0.00167968, ..., 0.00084125, 0.00117809,\n",
       "        0.00144084],\n",
       "       [0.00501347, 0.00356914, 0.00303614, ..., 0.00152061, 0.00212949,\n",
       "        0.00260443]], dtype=float32)"
      ]
     },
     "execution_count": 13,
     "metadata": {},
     "output_type": "execute_result"
    }
   ],
   "source": [
    "R_i_loc"
   ]
  },
  {
   "cell_type": "code",
   "execution_count": null,
   "id": "5386e7b1",
   "metadata": {},
   "outputs": [],
   "source": []
  },
  {
   "cell_type": "code",
   "execution_count": null,
   "id": "455ec677",
   "metadata": {},
   "outputs": [],
   "source": []
  },
  {
   "cell_type": "code",
   "execution_count": null,
   "id": "aeb5f22d",
   "metadata": {},
   "outputs": [],
   "source": []
  },
  {
   "cell_type": "code",
   "execution_count": 14,
   "id": "33e2267f",
   "metadata": {},
   "outputs": [],
   "source": [
    "# en_de_zh_es\n",
    "B_per_4_w = classifier_4.weight[3].detach().numpy()\n",
    "I_per_4_w = classifier_4.weight[7].detach().numpy()\n",
    "\n",
    "\n",
    "\n",
    "\n",
    "# es after fine-tune on en_de_zh\n",
    "B_per_1_w = classifier_1.weight[3].detach().numpy()\n",
    "I_per_1_w = classifier_1.weight[7].detach().numpy()"
   ]
  },
  {
   "cell_type": "code",
   "execution_count": 15,
   "id": "ea37df64",
   "metadata": {},
   "outputs": [],
   "source": [
    "R_b_per =  np.outer(1/(B_per_4_w.shape[0] * B_per_4_w), B_per_1_w)\n",
    "R_i_per =  np.outer(1/(I_per_4_w.shape[0] * I_per_4_w), I_per_1_w)"
   ]
  },
  {
   "cell_type": "code",
   "execution_count": 16,
   "id": "5e7a7c13",
   "metadata": {},
   "outputs": [
    {
     "data": {
      "text/plain": [
       "array([[ 0.0018879 , -0.00545456, -0.00420899, ..., -0.00245884,\n",
       "         0.00352651, -0.00324994],\n",
       "       [-0.00049065,  0.0014176 ,  0.00109388, ...,  0.00063903,\n",
       "        -0.00091651,  0.00084463],\n",
       "       [-0.00061961,  0.00179019,  0.00138139, ...,  0.00080699,\n",
       "        -0.0011574 ,  0.00106663],\n",
       "       ...,\n",
       "       [-0.00077876,  0.00225   ,  0.00173621, ...,  0.00101427,\n",
       "        -0.00145468,  0.0013406 ],\n",
       "       [ 0.00068991, -0.0019933 , -0.00153812, ..., -0.00089855,\n",
       "         0.00128872, -0.00118765],\n",
       "       [-0.00063919,  0.00184676,  0.00142505, ...,  0.00083249,\n",
       "        -0.00119398,  0.00110034]], dtype=float32)"
      ]
     },
     "execution_count": 16,
     "metadata": {},
     "output_type": "execute_result"
    }
   ],
   "source": [
    "R_b_per"
   ]
  },
  {
   "cell_type": "code",
   "execution_count": 17,
   "id": "1abbfea4",
   "metadata": {},
   "outputs": [
    {
     "data": {
      "text/plain": [
       "array([[ 0.00056008,  0.00267074, -0.00246963, ...,  0.00041602,\n",
       "         0.00159905,  0.00076995],\n",
       "       [ 0.00036435,  0.00173741, -0.00160658, ...,  0.00027064,\n",
       "         0.00104024,  0.00050088],\n",
       "       [-0.00020799, -0.00099177,  0.0009171 , ..., -0.00015449,\n",
       "        -0.0005938 , -0.00028592],\n",
       "       ...,\n",
       "       [ 0.0042955 ,  0.02048292, -0.01894057, ...,  0.00319065,\n",
       "         0.01226372,  0.00590503],\n",
       "       [ 0.00032748,  0.00156156, -0.00144398, ...,  0.00024325,\n",
       "         0.00093495,  0.00045018],\n",
       "       [ 0.00064464,  0.00307395, -0.00284249, ...,  0.00047883,\n",
       "         0.00184047,  0.00088619]], dtype=float32)"
      ]
     },
     "execution_count": 17,
     "metadata": {},
     "output_type": "execute_result"
    }
   ],
   "source": [
    "R_i_per"
   ]
  },
  {
   "cell_type": "code",
   "execution_count": 18,
   "id": "37852d7d",
   "metadata": {},
   "outputs": [
    {
     "data": {
      "text/plain": [
       "0.0"
      ]
     },
     "execution_count": 18,
     "metadata": {},
     "output_type": "execute_result"
    }
   ],
   "source": [
    "np.linalg.det(R_b_per)"
   ]
  },
  {
   "cell_type": "code",
   "execution_count": 19,
   "id": "f89d80e6",
   "metadata": {},
   "outputs": [],
   "source": [
    "R_b_loc_per =  np.outer(1/(B_loc_4_w.shape[0] * B_loc_4_w), B_per_4_w)\n",
    "R_b_per_loc =  np.outer(1/(B_per_4_w.shape[0] * B_per_4_w), B_loc_4_w)"
   ]
  },
  {
   "cell_type": "code",
   "execution_count": 20,
   "id": "be54e97a",
   "metadata": {},
   "outputs": [
    {
     "data": {
      "text/plain": [
       "(0.0, 0.0)"
      ]
     },
     "execution_count": 20,
     "metadata": {},
     "output_type": "execute_result"
    }
   ],
   "source": [
    "np.linalg.det(R_b_loc_per), np.linalg.det(R_b_per_loc)"
   ]
  },
  {
   "cell_type": "code",
   "execution_count": null,
   "id": "51cf3c83",
   "metadata": {},
   "outputs": [],
   "source": []
  }
 ],
 "metadata": {
  "kernelspec": {
   "display_name": "Python 3 (ipykernel)",
   "language": "python",
   "name": "python3"
  },
  "language_info": {
   "codemirror_mode": {
    "name": "ipython",
    "version": 3
   },
   "file_extension": ".py",
   "mimetype": "text/x-python",
   "name": "python",
   "nbconvert_exporter": "python",
   "pygments_lexer": "ipython3",
   "version": "3.9.7"
  }
 },
 "nbformat": 4,
 "nbformat_minor": 5
}
